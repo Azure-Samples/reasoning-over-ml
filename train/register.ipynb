{
 "cells": [
  {
   "cell_type": "markdown",
   "id": "2e0b3aa1",
   "metadata": {},
   "source": [
    "# Register the ML Model to an Azure ML Workspace\n",
    "\n",
    "In this notebookw, we will register the trained machine learning model to an Azure Machine Learning Workspace. \n",
    "\n",
    "Azure ML provides a seamless way to register the model's artifacts to Azure ML for deployment and further management. This ensures reproducibility, versioning, and easy access to the model for future use.\n"
   ]
  },
  {
   "cell_type": "markdown",
   "id": "443102d4",
   "metadata": {},
   "source": [
    "## Load the model and artifacts"
   ]
  },
  {
   "cell_type": "code",
   "execution_count": null,
   "id": "0b31a9c9",
   "metadata": {},
   "outputs": [],
   "source": [
    "import pickle\n",
    "\n",
    "# Load the model\n",
    "with open('Users/lubraz/reasoning-over-ml/train/model_artifacts/model.pkl', 'rb') as f:\n",
    "    model = pickle.load(f)\n",
    "\n",
    "# Load a sample of X_test in order to get the dtypes and use it for inference\n",
    "with open('Users/lubraz/reasoning-over-ml/train/model_artifacts/X_test.pkl', 'rb') as f:\n",
    "    X_test = pickle.load(f)"
   ]
  },
  {
   "cell_type": "markdown",
   "id": "c2f6c30e",
   "metadata": {},
   "source": [
    "## Configure AML client"
   ]
  },
  {
   "cell_type": "code",
   "execution_count": 134,
   "id": "4e6f03ba",
   "metadata": {},
   "outputs": [
    {
     "name": "stdout",
     "output_type": "stream",
     "text": [
      "MLClient loaded successfully: wkmllab02\n"
     ]
    }
   ],
   "source": [
    "import os\n",
    "from dotenv import load_dotenv\n",
    "from azure.ai.ml import MLClient\n",
    "from azure.identity import DefaultAzureCredential\n",
    "\n",
    "load_dotenv()\n",
    "\n",
    "subscription_id = os.environ.get(\"AZURE_SUBSCRIPTION_ID\")\n",
    "resource_group = os.environ.get(\"AZURE_RESOURCE_GROUP\")\n",
    "workspace = os.environ.get(\"WORKSPACE_NAME\")\n",
    "\n",
    "ml_client = MLClient(DefaultAzureCredential(), subscription_id, resource_group, workspace)\n",
    "\n",
    "print(\"MLClient loaded successfully:\", ml_client.workspace_name)"
   ]
  },
  {
   "cell_type": "markdown",
   "id": "b0c7e6d3",
   "metadata": {},
   "source": [
    "## Register the model to AML Workspace"
   ]
  },
  {
   "cell_type": "code",
   "execution_count": null,
   "id": "9666203c",
   "metadata": {},
   "outputs": [
    {
     "name": "stderr",
     "output_type": "stream",
     "text": [
      "\u001b[32mUploading model_artifacts (50.79 MBs): 100%|██████████| 50791302/50791302 [00:01<00:00, 46404330.63it/s]\n",
      "\u001b[39m\n",
      "\n"
     ]
    },
    {
     "data": {
      "text/plain": [
       "Model({'job_name': None, 'intellectual_property': None, 'is_anonymous': False, 'auto_increment_version': False, 'auto_delete_setting': None, 'name': 'store-sales-forecasting', 'description': 'Model for store sales forecasting. Trained on the Store Sales - Time Series Forecasting dataset from Kaggle.', 'tags': {'model_type': 'regression', 'dataset': 'store-sales-forecasting'}, 'properties': {}, 'print_as_yaml': False, 'id': '/subscriptions/2168a4ef-0538-435e-9ae6-beb6183f2769/resourceGroups/RG-ML/providers/Microsoft.MachineLearningServices/workspaces/wkmllab02/models/store-sales-forecasting/versions/4', 'Resource__source_path': '', 'base_path': '/mnt/batch/tasks/shared/LS_root/mounts/clusters/lubraz5/code', 'creation_context': <azure.ai.ml.entities._system_data.SystemData object at 0x7fb17f80fc10>, 'serialize': <msrest.serialization.Serializer object at 0x7fb17f80cf40>, 'version': '4', 'latest_version': None, 'path': 'azureml://subscriptions/2168a4ef-0538-435e-9ae6-beb6183f2769/resourceGroups/RG-ML/workspaces/wkmllab02/datastores/workspaceblobstore/paths/LocalUpload/cf0138064cc13f2240fb73d7b099eef0/model_artifacts', 'datastore': None, 'utc_time_created': None, 'flavors': None, 'arm_type': 'model_version', 'type': 'custom_model', 'stage': 'Development'})"
      ]
     },
     "execution_count": 135,
     "metadata": {},
     "output_type": "execute_result"
    }
   ],
   "source": [
    "from azure.ai.ml.entities import Model\n",
    "from azure.ai.ml.constants import AssetTypes\n",
    "\n",
    "file_model = Model(\n",
    "    path=\"Users/lubraz/reasoning-over-ml/train/model_artifacts/\",\n",
    "    type=AssetTypes.CUSTOM_MODEL,\n",
    "    name=\"store-sales-forecasting\",\n",
    "    description=\"Model for store sales forecasting. Trained on the Store Sales - Time Series Forecasting dataset from Kaggle.\",\n",
    "    tags={\"model_type\": \"regression\", \"dataset\": \"store-sales-forecasting\"},\n",
    ")\n",
    "\n",
    "ml_client.models.create_or_update(file_model)"
   ]
  },
  {
   "cell_type": "code",
   "execution_count": 5,
   "id": "11c43075",
   "metadata": {},
   "outputs": [
    {
     "ename": "KeyboardInterrupt",
     "evalue": "",
     "output_type": "error",
     "traceback": [
      "\u001b[0;31m---------------------------------------------------------------------------\u001b[0m",
      "\u001b[0;31mKeyboardInterrupt\u001b[0m                         Traceback (most recent call last)",
      "Cell \u001b[0;32mIn[5], line 4\u001b[0m\n\u001b[1;32m      1\u001b[0m \u001b[38;5;28;01mimport\u001b[39;00m \u001b[38;5;21;01mmlflow\u001b[39;00m\n\u001b[1;32m      2\u001b[0m \u001b[38;5;28;01mfrom\u001b[39;00m \u001b[38;5;21;01mmlflow\u001b[39;00m\u001b[38;5;21;01m.\u001b[39;00m\u001b[38;5;21;01mmodels\u001b[39;00m\u001b[38;5;21;01m.\u001b[39;00m\u001b[38;5;21;01msignature\u001b[39;00m \u001b[38;5;28;01mimport\u001b[39;00m infer_signature\n\u001b[0;32m----> 4\u001b[0m signature \u001b[38;5;241m=\u001b[39m \u001b[43minfer_signature\u001b[49m\u001b[43m(\u001b[49m\u001b[43mX_test\u001b[49m\u001b[43m,\u001b[49m\u001b[43m \u001b[49m\u001b[43mpredictions\u001b[49m\u001b[43m)\u001b[49m\n\u001b[1;32m      6\u001b[0m \u001b[38;5;66;03m# Set the new experiment (if it doesn't exist, MLflow will create it)\u001b[39;00m\n\u001b[1;32m      7\u001b[0m experiment_name \u001b[38;5;241m=\u001b[39m \u001b[38;5;124m\"\u001b[39m\u001b[38;5;124mStore-Sales-Forecasting-Experiment\u001b[39m\u001b[38;5;124m\"\u001b[39m\n",
      "File \u001b[0;32m/anaconda/envs/azureml_py310_sdkv2/lib/python3.10/site-packages/mlflow/models/signature.py:227\u001b[0m, in \u001b[0;36minfer_signature\u001b[0;34m(model_input, model_output, params)\u001b[0m\n\u001b[1;32m    151\u001b[0m \u001b[38;5;28;01mdef\u001b[39;00m \u001b[38;5;21minfer_signature\u001b[39m(\n\u001b[1;32m    152\u001b[0m     model_input: Any \u001b[38;5;241m=\u001b[39m \u001b[38;5;28;01mNone\u001b[39;00m,\n\u001b[1;32m    153\u001b[0m     model_output: \u001b[38;5;124m\"\u001b[39m\u001b[38;5;124mMlflowInferableDataset\u001b[39m\u001b[38;5;124m\"\u001b[39m \u001b[38;5;241m=\u001b[39m \u001b[38;5;28;01mNone\u001b[39;00m,\n\u001b[1;32m    154\u001b[0m     params: Optional[Dict[\u001b[38;5;28mstr\u001b[39m, Any]] \u001b[38;5;241m=\u001b[39m \u001b[38;5;28;01mNone\u001b[39;00m,\n\u001b[1;32m    155\u001b[0m ) \u001b[38;5;241m-\u001b[39m\u001b[38;5;241m>\u001b[39m ModelSignature:\n\u001b[1;32m    156\u001b[0m \u001b[38;5;250m    \u001b[39m\u001b[38;5;124;03m\"\"\"\u001b[39;00m\n\u001b[1;32m    157\u001b[0m \u001b[38;5;124;03m    Infer an MLflow model signature from the training data (input), model predictions (output)\u001b[39;00m\n\u001b[1;32m    158\u001b[0m \u001b[38;5;124;03m    and parameters (for inference).\u001b[39;00m\n\u001b[0;32m   (...)\u001b[0m\n\u001b[1;32m    225\u001b[0m \u001b[38;5;124;03m      ModelSignature\u001b[39;00m\n\u001b[1;32m    226\u001b[0m \u001b[38;5;124;03m    \"\"\"\u001b[39;00m\n\u001b[0;32m--> 227\u001b[0m     inputs \u001b[38;5;241m=\u001b[39m \u001b[43m_infer_schema\u001b[49m\u001b[43m(\u001b[49m\u001b[43mmodel_input\u001b[49m\u001b[43m)\u001b[49m \u001b[38;5;28;01mif\u001b[39;00m model_input \u001b[38;5;129;01mis\u001b[39;00m \u001b[38;5;129;01mnot\u001b[39;00m \u001b[38;5;28;01mNone\u001b[39;00m \u001b[38;5;28;01melse\u001b[39;00m \u001b[38;5;28;01mNone\u001b[39;00m\n\u001b[1;32m    228\u001b[0m     outputs \u001b[38;5;241m=\u001b[39m _infer_schema(model_output) \u001b[38;5;28;01mif\u001b[39;00m model_output \u001b[38;5;129;01mis\u001b[39;00m \u001b[38;5;129;01mnot\u001b[39;00m \u001b[38;5;28;01mNone\u001b[39;00m \u001b[38;5;28;01melse\u001b[39;00m \u001b[38;5;28;01mNone\u001b[39;00m\n\u001b[1;32m    229\u001b[0m     params \u001b[38;5;241m=\u001b[39m _infer_param_schema(params) \u001b[38;5;28;01mif\u001b[39;00m params \u001b[38;5;28;01melse\u001b[39;00m \u001b[38;5;28;01mNone\u001b[39;00m\n",
      "File \u001b[0;32m/anaconda/envs/azureml_py310_sdkv2/lib/python3.10/site-packages/mlflow/types/utils.py:341\u001b[0m, in \u001b[0;36m_infer_schema\u001b[0;34m(data)\u001b[0m\n\u001b[1;32m    338\u001b[0m \u001b[38;5;66;03m# pandas.DataFrame\u001b[39;00m\n\u001b[1;32m    339\u001b[0m \u001b[38;5;28;01melif\u001b[39;00m \u001b[38;5;28misinstance\u001b[39m(data, pd\u001b[38;5;241m.\u001b[39mDataFrame):\n\u001b[1;32m    340\u001b[0m     schema \u001b[38;5;241m=\u001b[39m Schema(\n\u001b[0;32m--> 341\u001b[0m         [\n\u001b[1;32m    342\u001b[0m             ColSpec(\n\u001b[1;32m    343\u001b[0m                 \u001b[38;5;28mtype\u001b[39m\u001b[38;5;241m=\u001b[39m_infer_pandas_column(data[col]),\n\u001b[1;32m    344\u001b[0m                 name\u001b[38;5;241m=\u001b[39mcol,\n\u001b[1;32m    345\u001b[0m                 required\u001b[38;5;241m=\u001b[39m_infer_required(data[col]),\n\u001b[1;32m    346\u001b[0m             )\n\u001b[1;32m    347\u001b[0m             \u001b[38;5;28;01mfor\u001b[39;00m col \u001b[38;5;129;01min\u001b[39;00m data\u001b[38;5;241m.\u001b[39mcolumns\n\u001b[1;32m    348\u001b[0m         ]\n\u001b[1;32m    349\u001b[0m     )\n\u001b[1;32m    350\u001b[0m \u001b[38;5;66;03m# numpy.ndarray\u001b[39;00m\n\u001b[1;32m    351\u001b[0m \u001b[38;5;28;01melif\u001b[39;00m \u001b[38;5;28misinstance\u001b[39m(data, np\u001b[38;5;241m.\u001b[39mndarray):\n",
      "File \u001b[0;32m/anaconda/envs/azureml_py310_sdkv2/lib/python3.10/site-packages/mlflow/types/utils.py:343\u001b[0m, in \u001b[0;36m<listcomp>\u001b[0;34m(.0)\u001b[0m\n\u001b[1;32m    338\u001b[0m \u001b[38;5;66;03m# pandas.DataFrame\u001b[39;00m\n\u001b[1;32m    339\u001b[0m \u001b[38;5;28;01melif\u001b[39;00m \u001b[38;5;28misinstance\u001b[39m(data, pd\u001b[38;5;241m.\u001b[39mDataFrame):\n\u001b[1;32m    340\u001b[0m     schema \u001b[38;5;241m=\u001b[39m Schema(\n\u001b[1;32m    341\u001b[0m         [\n\u001b[1;32m    342\u001b[0m             ColSpec(\n\u001b[0;32m--> 343\u001b[0m                 \u001b[38;5;28mtype\u001b[39m\u001b[38;5;241m=\u001b[39m\u001b[43m_infer_pandas_column\u001b[49m\u001b[43m(\u001b[49m\u001b[43mdata\u001b[49m\u001b[43m[\u001b[49m\u001b[43mcol\u001b[49m\u001b[43m]\u001b[49m\u001b[43m)\u001b[49m,\n\u001b[1;32m    344\u001b[0m                 name\u001b[38;5;241m=\u001b[39mcol,\n\u001b[1;32m    345\u001b[0m                 required\u001b[38;5;241m=\u001b[39m_infer_required(data[col]),\n\u001b[1;32m    346\u001b[0m             )\n\u001b[1;32m    347\u001b[0m             \u001b[38;5;28;01mfor\u001b[39;00m col \u001b[38;5;129;01min\u001b[39;00m data\u001b[38;5;241m.\u001b[39mcolumns\n\u001b[1;32m    348\u001b[0m         ]\n\u001b[1;32m    349\u001b[0m     )\n\u001b[1;32m    350\u001b[0m \u001b[38;5;66;03m# numpy.ndarray\u001b[39;00m\n\u001b[1;32m    351\u001b[0m \u001b[38;5;28;01melif\u001b[39;00m \u001b[38;5;28misinstance\u001b[39m(data, np\u001b[38;5;241m.\u001b[39mndarray):\n",
      "File \u001b[0;32m/anaconda/envs/azureml_py310_sdkv2/lib/python3.10/site-packages/mlflow/types/utils.py:486\u001b[0m, in \u001b[0;36m_infer_pandas_column\u001b[0;34m(col)\u001b[0m\n\u001b[1;32m    482\u001b[0m \u001b[38;5;28;01mif\u001b[39;00m col\u001b[38;5;241m.\u001b[39mdtype\u001b[38;5;241m.\u001b[39mkind \u001b[38;5;241m==\u001b[39m \u001b[38;5;124m\"\u001b[39m\u001b[38;5;124mO\u001b[39m\u001b[38;5;124m\"\u001b[39m:\n\u001b[1;32m    483\u001b[0m     \u001b[38;5;28;01mtry\u001b[39;00m:\n\u001b[1;32m    484\u001b[0m         \u001b[38;5;66;03m# We convert pandas Series into list and infer the schema.\u001b[39;00m\n\u001b[1;32m    485\u001b[0m         \u001b[38;5;66;03m# The real schema for internal field should be the Array's dtype\u001b[39;00m\n\u001b[0;32m--> 486\u001b[0m         arr_type \u001b[38;5;241m=\u001b[39m \u001b[43m_infer_colspec_type\u001b[49m\u001b[43m(\u001b[49m\u001b[43mcol\u001b[49m\u001b[38;5;241;43m.\u001b[39;49m\u001b[43mto_list\u001b[49m\u001b[43m(\u001b[49m\u001b[43m)\u001b[49m\u001b[43m)\u001b[49m\n\u001b[1;32m    487\u001b[0m         \u001b[38;5;28;01mreturn\u001b[39;00m arr_type\u001b[38;5;241m.\u001b[39mdtype\n\u001b[1;32m    488\u001b[0m     \u001b[38;5;28;01mexcept\u001b[39;00m \u001b[38;5;167;01mException\u001b[39;00m \u001b[38;5;28;01mas\u001b[39;00m e:\n\u001b[1;32m    489\u001b[0m         \u001b[38;5;66;03m# For backwards compatibility, we fall back to string\u001b[39;00m\n\u001b[1;32m    490\u001b[0m         \u001b[38;5;66;03m# if the provided array is of string type\u001b[39;00m\n\u001b[1;32m    491\u001b[0m         \u001b[38;5;66;03m# This is for diviner test where df field is ('key2', 'key1', 'key0')\u001b[39;00m\n",
      "File \u001b[0;32m/anaconda/envs/azureml_py310_sdkv2/lib/python3.10/site-packages/mlflow/types/utils.py:99\u001b[0m, in \u001b[0;36m_infer_colspec_type\u001b[0;34m(data)\u001b[0m\n\u001b[1;32m     89\u001b[0m \u001b[38;5;28;01mdef\u001b[39;00m \u001b[38;5;21m_infer_colspec_type\u001b[39m(data: Any) \u001b[38;5;241m-\u001b[39m\u001b[38;5;241m>\u001b[39m Union[DataType, Array, Object]:\n\u001b[1;32m     90\u001b[0m \u001b[38;5;250m    \u001b[39m\u001b[38;5;124;03m\"\"\"\u001b[39;00m\n\u001b[1;32m     91\u001b[0m \u001b[38;5;124;03m    Infer an MLflow Colspec type from the dataset.\u001b[39;00m\n\u001b[1;32m     92\u001b[0m \n\u001b[0;32m   (...)\u001b[0m\n\u001b[1;32m     97\u001b[0m \u001b[38;5;124;03m        Object\u001b[39;00m\n\u001b[1;32m     98\u001b[0m \u001b[38;5;124;03m    \"\"\"\u001b[39;00m\n\u001b[0;32m---> 99\u001b[0m     dtype \u001b[38;5;241m=\u001b[39m \u001b[43m_infer_datatype\u001b[49m\u001b[43m(\u001b[49m\u001b[43mdata\u001b[49m\u001b[43m)\u001b[49m\n\u001b[1;32m    101\u001b[0m     \u001b[38;5;66;03m# Currently only input that gives None is nested list whose items are all empty e.g. [[], []],\u001b[39;00m\n\u001b[1;32m    102\u001b[0m     \u001b[38;5;66;03m# because flat empty list [] has special handlign logic in _infer_schema\u001b[39;00m\n\u001b[1;32m    103\u001b[0m     \u001b[38;5;28;01mif\u001b[39;00m dtype \u001b[38;5;129;01mis\u001b[39;00m \u001b[38;5;28;01mNone\u001b[39;00m:\n",
      "File \u001b[0;32m/anaconda/envs/azureml_py310_sdkv2/lib/python3.10/site-packages/mlflow/types/utils.py:122\u001b[0m, in \u001b[0;36m_infer_datatype\u001b[0;34m(data)\u001b[0m\n\u001b[1;32m    119\u001b[0m     \u001b[38;5;28;01mreturn\u001b[39;00m Object(properties\u001b[38;5;241m=\u001b[39mproperties)\n\u001b[1;32m    121\u001b[0m \u001b[38;5;28;01mif\u001b[39;00m \u001b[38;5;28misinstance\u001b[39m(data, (\u001b[38;5;28mlist\u001b[39m, np\u001b[38;5;241m.\u001b[39mndarray)):\n\u001b[0;32m--> 122\u001b[0m     \u001b[38;5;28;01mreturn\u001b[39;00m \u001b[43m_infer_array_datatype\u001b[49m\u001b[43m(\u001b[49m\u001b[43mdata\u001b[49m\u001b[43m)\u001b[49m\n\u001b[1;32m    124\u001b[0m \u001b[38;5;28;01mreturn\u001b[39;00m _infer_scalar_datatype(data)\n",
      "File \u001b[0;32m/anaconda/envs/azureml_py310_sdkv2/lib/python3.10/site-packages/mlflow/types/utils.py:151\u001b[0m, in \u001b[0;36m_infer_array_datatype\u001b[0;34m(data)\u001b[0m\n\u001b[1;32m    148\u001b[0m \u001b[38;5;28;01mif\u001b[39;00m _is_none_or_nan(item):\n\u001b[1;32m    149\u001b[0m     \u001b[38;5;28;01mcontinue\u001b[39;00m\n\u001b[0;32m--> 151\u001b[0m dtype \u001b[38;5;241m=\u001b[39m \u001b[43m_infer_datatype\u001b[49m\u001b[43m(\u001b[49m\u001b[43mitem\u001b[49m\u001b[43m)\u001b[49m\n\u001b[1;32m    153\u001b[0m \u001b[38;5;66;03m# Skip item with undetermined type\u001b[39;00m\n\u001b[1;32m    154\u001b[0m \u001b[38;5;28;01mif\u001b[39;00m dtype \u001b[38;5;129;01mis\u001b[39;00m \u001b[38;5;28;01mNone\u001b[39;00m:\n",
      "File \u001b[0;32m/anaconda/envs/azureml_py310_sdkv2/lib/python3.10/site-packages/mlflow/types/utils.py:124\u001b[0m, in \u001b[0;36m_infer_datatype\u001b[0;34m(data)\u001b[0m\n\u001b[1;32m    121\u001b[0m \u001b[38;5;28;01mif\u001b[39;00m \u001b[38;5;28misinstance\u001b[39m(data, (\u001b[38;5;28mlist\u001b[39m, np\u001b[38;5;241m.\u001b[39mndarray)):\n\u001b[1;32m    122\u001b[0m     \u001b[38;5;28;01mreturn\u001b[39;00m _infer_array_datatype(data)\n\u001b[0;32m--> 124\u001b[0m \u001b[38;5;28;01mreturn\u001b[39;00m \u001b[43m_infer_scalar_datatype\u001b[49m\u001b[43m(\u001b[49m\u001b[43mdata\u001b[49m\u001b[43m)\u001b[49m\n",
      "File \u001b[0;32m/anaconda/envs/azureml_py310_sdkv2/lib/python3.10/site-packages/mlflow/types/utils.py:189\u001b[0m, in \u001b[0;36m_infer_scalar_datatype\u001b[0;34m(data)\u001b[0m\n\u001b[1;32m    186\u001b[0m     \u001b[38;5;28;01mreturn\u001b[39;00m DataType\u001b[38;5;241m.\u001b[39minteger\n\u001b[1;32m    187\u001b[0m \u001b[38;5;66;03m# Order of is_double & is_float matters\u001b[39;00m\n\u001b[1;32m    188\u001b[0m \u001b[38;5;66;03m# as both of their python_types are float\u001b[39;00m\n\u001b[0;32m--> 189\u001b[0m \u001b[38;5;28;01mif\u001b[39;00m \u001b[43mDataType\u001b[49m\u001b[38;5;241;43m.\u001b[39;49m\u001b[43mis_double\u001b[49m\u001b[43m(\u001b[49m\u001b[43mdata\u001b[49m\u001b[43m)\u001b[49m:\n\u001b[1;32m    190\u001b[0m     \u001b[38;5;28;01mreturn\u001b[39;00m DataType\u001b[38;5;241m.\u001b[39mdouble\n\u001b[1;32m    191\u001b[0m \u001b[38;5;28;01mif\u001b[39;00m DataType\u001b[38;5;241m.\u001b[39mis_float(data):\n",
      "File \u001b[0;32m/anaconda/envs/azureml_py310_sdkv2/lib/python3.10/site-packages/mlflow/types/schema.py:107\u001b[0m, in \u001b[0;36mDataType.is_double\u001b[0;34m(cls, value)\u001b[0m\n\u001b[1;32m    105\u001b[0m \u001b[38;5;129m@classmethod\u001b[39m\n\u001b[1;32m    106\u001b[0m \u001b[38;5;28;01mdef\u001b[39;00m \u001b[38;5;21mis_double\u001b[39m(\u001b[38;5;28mcls\u001b[39m, value):\n\u001b[0;32m--> 107\u001b[0m     \u001b[38;5;28;01mreturn\u001b[39;00m \u001b[38;5;28mtype\u001b[39m(value) \u001b[38;5;129;01min\u001b[39;00m \u001b[43mDataType\u001b[49m\u001b[38;5;241;43m.\u001b[39;49m\u001b[43mdouble\u001b[49m\u001b[38;5;241;43m.\u001b[39;49m\u001b[43mget_all_types\u001b[49m\u001b[43m(\u001b[49m\u001b[43m)\u001b[49m\n",
      "File \u001b[0;32m/anaconda/envs/azureml_py310_sdkv2/lib/python3.10/site-packages/mlflow/types/schema.py:123\u001b[0m, in \u001b[0;36mDataType.get_all_types\u001b[0;34m(self)\u001b[0m\n\u001b[1;32m    121\u001b[0m \u001b[38;5;28;01mdef\u001b[39;00m \u001b[38;5;21mget_all_types\u001b[39m(\u001b[38;5;28mself\u001b[39m):\n\u001b[1;32m    122\u001b[0m     types \u001b[38;5;241m=\u001b[39m [\u001b[38;5;28mself\u001b[39m\u001b[38;5;241m.\u001b[39mto_numpy(), \u001b[38;5;28mself\u001b[39m\u001b[38;5;241m.\u001b[39mto_pandas(), \u001b[38;5;28mself\u001b[39m\u001b[38;5;241m.\u001b[39mto_python()]\n\u001b[0;32m--> 123\u001b[0m     \u001b[38;5;28;01mif\u001b[39;00m \u001b[43mimportlib\u001b[49m\u001b[38;5;241;43m.\u001b[39;49m\u001b[43mutil\u001b[49m\u001b[38;5;241;43m.\u001b[39;49m\u001b[43mfind_spec\u001b[49m\u001b[43m(\u001b[49m\u001b[38;5;124;43m\"\u001b[39;49m\u001b[38;5;124;43mpyspark\u001b[39;49m\u001b[38;5;124;43m\"\u001b[39;49m\u001b[43m)\u001b[49m \u001b[38;5;129;01mis\u001b[39;00m \u001b[38;5;129;01mnot\u001b[39;00m \u001b[38;5;28;01mNone\u001b[39;00m:\n\u001b[1;32m    124\u001b[0m         types\u001b[38;5;241m.\u001b[39mappend(\u001b[38;5;28mself\u001b[39m\u001b[38;5;241m.\u001b[39mto_spark())\n\u001b[1;32m    125\u001b[0m     \u001b[38;5;28;01mif\u001b[39;00m \u001b[38;5;28mself\u001b[39m\u001b[38;5;241m.\u001b[39mname \u001b[38;5;241m==\u001b[39m \u001b[38;5;124m\"\u001b[39m\u001b[38;5;124mdatetime\u001b[39m\u001b[38;5;124m\"\u001b[39m:\n",
      "File \u001b[0;32m/anaconda/envs/azureml_py310_sdkv2/lib/python3.10/importlib/util.py:103\u001b[0m, in \u001b[0;36mfind_spec\u001b[0;34m(name, package)\u001b[0m\n\u001b[1;32m    101\u001b[0m     \u001b[38;5;28;01melse\u001b[39;00m:\n\u001b[1;32m    102\u001b[0m         parent_path \u001b[38;5;241m=\u001b[39m \u001b[38;5;28;01mNone\u001b[39;00m\n\u001b[0;32m--> 103\u001b[0m     \u001b[38;5;28;01mreturn\u001b[39;00m \u001b[43m_find_spec\u001b[49m\u001b[43m(\u001b[49m\u001b[43mfullname\u001b[49m\u001b[43m,\u001b[49m\u001b[43m \u001b[49m\u001b[43mparent_path\u001b[49m\u001b[43m)\u001b[49m\n\u001b[1;32m    104\u001b[0m \u001b[38;5;28;01melse\u001b[39;00m:\n\u001b[1;32m    105\u001b[0m     module \u001b[38;5;241m=\u001b[39m sys\u001b[38;5;241m.\u001b[39mmodules[fullname]\n",
      "File \u001b[0;32m<frozen importlib._bootstrap>:945\u001b[0m, in \u001b[0;36m_find_spec\u001b[0;34m(name, path, target)\u001b[0m\n",
      "File \u001b[0;32m<frozen importlib._bootstrap_external>:1439\u001b[0m, in \u001b[0;36mfind_spec\u001b[0;34m(cls, fullname, path, target)\u001b[0m\n",
      "File \u001b[0;32m<frozen importlib._bootstrap_external>:1411\u001b[0m, in \u001b[0;36m_get_spec\u001b[0;34m(cls, fullname, path, target)\u001b[0m\n",
      "File \u001b[0;32m<frozen importlib._bootstrap_external>:1544\u001b[0m, in \u001b[0;36mfind_spec\u001b[0;34m(self, fullname, target)\u001b[0m\n",
      "File \u001b[0;32m<frozen importlib._bootstrap_external>:147\u001b[0m, in \u001b[0;36m_path_stat\u001b[0;34m(path)\u001b[0m\n",
      "\u001b[0;31mKeyboardInterrupt\u001b[0m: "
     ]
    }
   ],
   "source": [
    "import mlflow\n",
    "from mlflow.models.signature import infer_signature\n",
    "\n",
    "signature = infer_signature(X_test, predictions)\n",
    "\n",
    "# Set the new experiment (if it doesn't exist, MLflow will create it)\n",
    "experiment_name = \"Store-Sales-Forecasting-Experiment\"\n",
    "mlflow.set_experiment(experiment_name)\n",
    "\n",
    "with mlflow.start_run(run_name=\"XGBoost Model Run\"):\n",
    "    mlflow.log_metric(\"RMSLE\", results['RMSLE'][0])\n",
    "    mlflow.log_metric(\"RMSE\", results['RMSE'][0])\n",
    "    mlflow.log_metric(\"MSE\", results['MSE'][0])\n",
    "    mlflow.log_metric(\"MAE\", results['MAE'][0])\n",
    "    mlflow.log_metric(\"MAE_percent\", results['MAE_percent'][0])\n",
    "    \n",
    "\n",
    "    mlflow.xgboost.log_model(model, artifact_path=\"xgb_model\", signature=signature)\n",
    "\n",
    "    \n",
    "    print(\"XGBoost model and metrics successfully logged under experiment:\", experiment_name)"
   ]
  }
 ],
 "metadata": {
  "kernelspec": {
   "display_name": "Python 3.10 - SDK v2",
   "language": "python",
   "name": "python310-sdkv2"
  },
  "language_info": {
   "codemirror_mode": {
    "name": "ipython",
    "version": 3
   },
   "file_extension": ".py",
   "mimetype": "text/x-python",
   "name": "python",
   "nbconvert_exporter": "python",
   "pygments_lexer": "ipython3",
   "version": "3.10.14"
  }
 },
 "nbformat": 4,
 "nbformat_minor": 5
}
