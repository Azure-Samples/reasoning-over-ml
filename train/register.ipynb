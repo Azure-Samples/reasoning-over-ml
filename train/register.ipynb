{
 "cells": [
  {
   "cell_type": "markdown",
   "id": "2e0b3aa1",
   "metadata": {},
   "source": [
    "# Register the ML Model to an Azure ML Workspace\n",
    "\n",
    "In this notebookw, we will register the trained machine learning model to an Azure Machine Learning Workspace. \n",
    "\n",
    "Azure ML provides a seamless way to register the model's artifacts to Azure ML for deployment and further management. This ensures reproducibility, versioning, and easy access to the model for future use.\n"
   ]
  },
  {
   "cell_type": "markdown",
   "id": "c2f6c30e",
   "metadata": {},
   "source": [
    "## Configure AML client"
   ]
  },
  {
   "cell_type": "code",
   "execution_count": 1,
   "id": "4e6f03ba",
   "metadata": {},
   "outputs": [
    {
     "name": "stdout",
     "output_type": "stream",
     "text": [
      "MLClient loaded successfully: wkmllab02\n"
     ]
    }
   ],
   "source": [
    "import os\n",
    "from dotenv import load_dotenv\n",
    "from azure.ai.ml import MLClient\n",
    "from azure.identity import DefaultAzureCredential\n",
    "\n",
    "load_dotenv()\n",
    "\n",
    "subscription_id = os.environ.get(\"AZURE_SUBSCRIPTION_ID\")\n",
    "resource_group = os.environ.get(\"AZURE_RESOURCE_GROUP\")\n",
    "workspace = os.environ.get(\"WORKSPACE_NAME\")\n",
    "\n",
    "ml_client = MLClient(DefaultAzureCredential(), subscription_id, resource_group, workspace)\n",
    "\n",
    "print(\"MLClient loaded successfully:\", ml_client.workspace_name)"
   ]
  },
  {
   "cell_type": "markdown",
   "id": "b0c7e6d3",
   "metadata": {},
   "source": [
    "## Register the model to AML Workspace"
   ]
  },
  {
   "cell_type": "code",
   "execution_count": 3,
   "id": "9666203c",
   "metadata": {},
   "outputs": [
    {
     "name": "stderr",
     "output_type": "stream",
     "text": [
      "\u001b[32mUploading model_artifacts (52.49 MBs): 100%|██████████| 52493597/52493597 [00:04<00:00, 11686718.34it/s]\n",
      "\u001b[39m\n",
      "\n"
     ]
    },
    {
     "data": {
      "text/plain": [
       "Model({'job_name': None, 'intellectual_property': None, 'system_metadata': None, 'is_anonymous': False, 'auto_increment_version': False, 'auto_delete_setting': None, 'name': 'store-sales-forecasting', 'description': 'Model for store sales forecasting. Trained on the Store Sales - Time Series Forecasting dataset from Kaggle.', 'tags': {'model_type': 'regression', 'dataset': 'store-sales-forecasting'}, 'properties': {}, 'print_as_yaml': False, 'id': '/subscriptions/2168a4ef-0538-435e-9ae6-beb6183f2769/resourceGroups/RG-ML/providers/Microsoft.MachineLearningServices/workspaces/wkmllab02/models/store-sales-forecasting/versions/5', 'Resource__source_path': '', 'base_path': '/home/luiz-braz/workspace/reasoning-over-ml/train', 'creation_context': <azure.ai.ml.entities._system_data.SystemData object at 0x7fa81bfcf260>, 'serialize': <msrest.serialization.Serializer object at 0x7fa847faff80>, 'version': '5', 'latest_version': None, 'path': 'azureml://subscriptions/2168a4ef-0538-435e-9ae6-beb6183f2769/resourceGroups/RG-ML/workspaces/wkmllab02/datastores/workspaceblobstore/paths/LocalUpload/7aca447c91e77ffa32c3eadf6ddc36a6/model_artifacts', 'datastore': None, 'utc_time_created': None, 'flavors': None, 'arm_type': 'model_version', 'type': 'custom_model', 'stage': 'Development'})"
      ]
     },
     "execution_count": 3,
     "metadata": {},
     "output_type": "execute_result"
    }
   ],
   "source": [
    "from azure.ai.ml.entities import Model\n",
    "from azure.ai.ml.constants import AssetTypes\n",
    "\n",
    "file_model = Model(\n",
    "    path=\"../train/model_artifacts/\",\n",
    "    type=AssetTypes.CUSTOM_MODEL,\n",
    "    name=\"store-sales-forecasting\",\n",
    "    description=\"Model for store sales forecasting. Trained on the Store Sales - Time Series Forecasting dataset from Kaggle.\",\n",
    "    tags={\"model_type\": \"regression\", \"dataset\": \"store-sales-forecasting\"},\n",
    ")\n",
    "\n",
    "ml_client.models.create_or_update(file_model)"
   ]
  }
 ],
 "metadata": {
  "kernelspec": {
   "display_name": ".venv",
   "language": "python",
   "name": "python3"
  },
  "language_info": {
   "codemirror_mode": {
    "name": "ipython",
    "version": 3
   },
   "file_extension": ".py",
   "mimetype": "text/x-python",
   "name": "python",
   "nbconvert_exporter": "python",
   "pygments_lexer": "ipython3",
   "version": "3.12.9"
  }
 },
 "nbformat": 4,
 "nbformat_minor": 5
}
