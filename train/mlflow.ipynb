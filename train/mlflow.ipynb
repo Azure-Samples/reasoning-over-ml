{
 "cells": [
  {
   "cell_type": "markdown",
   "id": "2e0b3aa1",
   "metadata": {},
   "source": [
    "# Register the ML Model to an Azure ML Workspace\n",
    "\n",
    "In this notebookw, we will use MLFlow to track and register a machine learning model to an Azure Machine Learning Workspace. \n",
    "\n",
    "MLFlow provides a seamless way to log model parameters, metrics, and artifacts, and then register the model to Azure ML for deployment and further management. This ensures reproducibility, versioning, and easy access to the model for future use.\n"
   ]
  },
  {
   "cell_type": "markdown",
   "id": "443102d4",
   "metadata": {},
   "source": [
    "## Load the model and artifacts"
   ]
  },
  {
   "cell_type": "code",
   "execution_count": 1,
   "id": "0b31a9c9",
   "metadata": {},
   "outputs": [],
   "source": [
    "import pickle\n",
    "\n",
    "with open('Users/lubraz/reasoning-over-ml/train/artifacts/model.pkl', 'rb') as f:\n",
    "    model = pickle.load(f)\n",
    "\n",
    "with open('Users/lubraz/reasoning-over-ml/train/artifacts/X_test.pkl', 'rb') as f:\n",
    "    X_test = pickle.load(f)\n",
    "\n",
    "with open('Users/lubraz/reasoning-over-ml/train/artifacts/predictions.pkl', 'rb') as f:\n",
    "    predictions = pickle.load(f)\n",
    "\n",
    "with open('Users/lubraz/reasoning-over-ml/train/artifacts/results.pkl', 'rb') as f:\n",
    "    results = pickle.load(f)"
   ]
  },
  {
   "cell_type": "markdown",
   "id": "c2f6c30e",
   "metadata": {},
   "source": [
    "## Configure AML client"
   ]
  },
  {
   "cell_type": "code",
   "execution_count": 4,
   "id": "4e6f03ba",
   "metadata": {},
   "outputs": [
    {
     "name": "stdout",
     "output_type": "stream",
     "text": [
      "MLClient loaded successfully: wkmllab02\n"
     ]
    }
   ],
   "source": [
    "import os\n",
    "from dotenv import load_dotenv\n",
    "from azure.ai.ml import MLClient\n",
    "from azure.identity import ManagedIdentityCredential\n",
    "\n",
    "load_dotenv()\n",
    "\n",
    "subscription_id = os.environ.get(\"AZURE_SUBSCRIPTION_ID\")\n",
    "resource_group = os.environ.get(\"AZURE_RESOURCE_GROUP\")\n",
    "workspace = os.environ.get(\"WORKSPACE_NAME\")\n",
    "\n",
    "credential = ManagedIdentityCredential(client_id=None)\n",
    "\n",
    "ml_client = MLClient(credential, subscription_id, resource_group, workspace)\n",
    "\n",
    "print(\"MLClient loaded successfully:\", ml_client.workspace_name)"
   ]
  },
  {
   "cell_type": "markdown",
   "id": "b0c7e6d3",
   "metadata": {},
   "source": [
    "## Register the model to AML Workspace using MLFlow"
   ]
  },
  {
   "cell_type": "code",
   "execution_count": null,
   "id": "11c43075",
   "metadata": {},
   "outputs": [],
   "source": [
    "import mlflow\n",
    "from mlflow.models.signature import infer_signature\n",
    "\n",
    "signature = infer_signature(X_test, predictions)\n",
    "\n",
    "# Set the new experiment (if it doesn't exist, MLflow will create it)\n",
    "experiment_name = \"XGBoost_Experiment\"\n",
    "mlflow.set_experiment(experiment_name)\n",
    "\n",
    "with mlflow.start_run(run_name=\"XGBoost Model Run\"):\n",
    "    mlflow.log_metric(\"RMSLE\", results['RMSLE'][0])\n",
    "    mlflow.log_metric(\"RMSE\", results['RMSE'][0])\n",
    "    mlflow.log_metric(\"MSE\", results['MSE'][0])\n",
    "    mlflow.log_metric(\"MAE\", results['MAE'][0])\n",
    "    mlflow.log_metric(\"MAE_percent\", results['MAE_percent'][0])\n",
    "    \n",
    "\n",
    "    mlflow.xgboost.log_model(model, artifact_path=\"xgb_model\", signature=signature)\n",
    "\n",
    "    \n",
    "    print(\"XGBoost model and metrics successfully logged under experiment:\", experiment_name)"
   ]
  }
 ],
 "metadata": {
  "kernelspec": {
   "display_name": "Python 3.10 - SDK v2",
   "language": "python",
   "name": "python310-sdkv2"
  },
  "language_info": {
   "codemirror_mode": {
    "name": "ipython",
    "version": 3
   },
   "file_extension": ".py",
   "mimetype": "text/x-python",
   "name": "python",
   "nbconvert_exporter": "python",
   "pygments_lexer": "ipython3",
   "version": "3.10.14"
  }
 },
 "nbformat": 4,
 "nbformat_minor": 5
}
