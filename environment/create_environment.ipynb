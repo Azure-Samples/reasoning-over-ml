{
 "cells": [
  {
   "cell_type": "markdown",
   "id": "1d58a69c",
   "metadata": {},
   "source": [
    "# Create an Azure ML custom Environment\n",
    "This section demonstrates how to create a custom Azure Machine Learning (AML) environment. \n",
    "A custom environment allows you to define specific dependencies, such as Python packages and system libraries, required for your machine learning experiments."
   ]
  },
  {
   "cell_type": "code",
   "execution_count": 1,
   "id": "a19cc931",
   "metadata": {},
   "outputs": [
    {
     "name": "stdout",
     "output_type": "stream",
     "text": [
      "MLClient loaded successfully: wkmllab02\n"
     ]
    }
   ],
   "source": [
    "import os\n",
    "from dotenv import load_dotenv\n",
    "from azure.ai.ml import MLClient\n",
    "from azure.identity import DefaultAzureCredential\n",
    "\n",
    "load_dotenv()\n",
    "\n",
    "subscription_id = os.environ.get(\"AZURE_SUBSCRIPTION_ID\")\n",
    "resource_group = os.environ.get(\"AZURE_RESOURCE_GROUP\")\n",
    "workspace = os.environ.get(\"WORKSPACE_NAME\")\n",
    "\n",
    "ml_client = MLClient(DefaultAzureCredential(), subscription_id, resource_group, workspace)\n",
    "\n",
    "print(\"MLClient loaded successfully:\", ml_client.workspace_name)"
   ]
  },
  {
   "cell_type": "code",
   "execution_count": 2,
   "id": "e72c5e37",
   "metadata": {},
   "outputs": [
    {
     "data": {
      "text/plain": [
       "Environment({'arm_type': 'environment_version', 'latest_version': None, 'image': 'mcr.microsoft.com/azureml/openmpi4.1.0-ubuntu20.04', 'intellectual_property': None, 'is_anonymous': False, 'auto_increment_version': False, 'auto_delete_setting': None, 'name': 'store-sales-docker-conda', 'description': 'Environment for store sales prediction', 'tags': {}, 'properties': {'azureml.labels': 'latest'}, 'print_as_yaml': False, 'id': '/subscriptions/2168a4ef-0538-435e-9ae6-beb6183f2769/resourceGroups/RG-ML/providers/Microsoft.MachineLearningServices/workspaces/wkmllab02/environments/store-sales-docker-conda/versions/3', 'Resource__source_path': '', 'base_path': '/mnt/batch/tasks/shared/LS_root/mounts/clusters/lubraz5/code', 'creation_context': <azure.ai.ml.entities._system_data.SystemData object at 0x7ff380d1a2f0>, 'serialize': <msrest.serialization.Serializer object at 0x7ff380d199c0>, 'version': '3', 'conda_file': {'channels': ['conda-forge', 'defaults'], 'dependencies': ['python=3.10', {'pip': ['pandas==1.3.5', 'xgboost==3.0.0', 'azureml-defaults==1.60.0', 'mlflow==2.21.3']}], 'name': 'store_sales_environment'}, 'build': None, 'inference_config': None, 'os_type': 'Linux', 'conda_file_path': None, 'path': None, 'datastore': None, 'upload_hash': None, 'translated_conda_file': '{\\n  \"channels\": [\\n    \"conda-forge\",\\n    \"defaults\"\\n  ],\\n  \"dependencies\": [\\n    \"python=3.10\",\\n    {\\n      \"pip\": [\\n        \"pandas==1.3.5\",\\n        \"xgboost==3.0.0\",\\n        \"azureml-defaults==1.60.0\",\\n        \"mlflow==2.21.3\"\\n      ]\\n    }\\n  ],\\n  \"name\": \"store_sales_environment\"\\n}'})"
      ]
     },
     "execution_count": 2,
     "metadata": {},
     "output_type": "execute_result"
    }
   ],
   "source": [
    "from azure.ai.ml.entities import Environment\n",
    "\n",
    "env_docker_conda = Environment(\n",
    "    image=\"mcr.microsoft.com/azureml/openmpi4.1.0-ubuntu20.04\",\n",
    "    conda_file=\"Users/lubraz/reasoning-over-ml/environment/environment.yml\",\n",
    "    name=\"store-sales-docker-conda\",\n",
    "    description=\"Environment for store sales prediction\",\n",
    ")\n",
    "\n",
    "ml_client.environments.create_or_update(env_docker_conda)"
   ]
  }
 ],
 "metadata": {
  "kernelspec": {
   "display_name": "Python 3.10 - SDK v2",
   "language": "python",
   "name": "python310-sdkv2"
  }
 },
 "nbformat": 4,
 "nbformat_minor": 5
}
